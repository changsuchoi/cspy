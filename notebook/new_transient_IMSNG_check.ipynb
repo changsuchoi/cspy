{
 "cells": [
  {
   "cell_type": "code",
   "execution_count": 1,
   "metadata": {},
   "outputs": [
    {
     "data": {
      "text/plain": [
       "'/data7/cschoi/IMSNGgalaxies/M63'"
      ]
     },
     "execution_count": 1,
     "metadata": {},
     "output_type": "execute_result"
    }
   ],
   "source": [
    "pwd\n"
   ]
  },
  {
   "cell_type": "code",
   "execution_count": 2,
   "metadata": {},
   "outputs": [],
   "source": [
    "import os\n",
    "import astropy.io.fits as fits\n"
   ]
  },
  {
   "cell_type": "code",
   "execution_count": 3,
   "metadata": {},
   "outputs": [],
   "source": [
    "def oswalkfunc():\n",
    "\tf=open('oswalk.list','w')\n",
    "\t#workDIr = os.path.abspath(b'.')\n",
    "\tfor root, dirs, files in os.walk('.'): # os.walk(\".\", topdown = False):\n",
    "\t   # all files with path names\n",
    "\t   for name in files:\n",
    "\t      #print(os.path.join(root, name))\n",
    "\t      f.write(os.path.join(root, name)+'\\n')\n",
    "\tf.close()\n",
    "\twith open('oswalk.list','r') as file_handle: lines = file_handle.read().splitlines()\n",
    "\tprint(len(lines),'files')\n",
    "\treturn lines\n",
    " # lines = [line.strip() for line in file_handle]\n",
    "\n",
    "def fnamechange(ii):\n",
    "\t#for CCA250\n",
    "\ti=ii.split('/')[-1]\n",
    "\thead=fits.getheader(ii)\n",
    "\tobjname=head['OBJECT']\n",
    "\tdateobs=head['DATE-OBS']\n",
    "\tdatestr=dateobs[:4]+dateobs[5:7]+dateobs[8:10]+'-'+dateobs[11:13]+dateobs[14:16]+dateobs[17:20]\n",
    "\tfilterstr=head['FILTER']\n",
    "\texptimestr=str(int(head['EXPTIME']))\n",
    "\tnewname='Calib-CCA250-'+objname+'-'+datestr+'-'+filterstr+'-'+exptimestr+'.fits'\n",
    "\tprint('cp '+ii+' '+'/'.join(ii.split('/')[:-1])+'/'+newname)\n",
    "\tos.system('cp '+ii+' '+'/'.join(ii.split('/')[:-1])+'/'+newname)\n",
    "\n",
    "def LSGTfilechange(ii):\n",
    "\t# From Calib-LSGT-NGC3367-20180519-220208-g-BIN1-W-180-003.fits\n",
    "\t# To   Calib-LSGT-NGC3367-20180519-220208-g-180.fits\n",
    "\ti=ii.split('/')[-1]\n",
    "\tfrag=i.split('-')\n",
    "\tfrag[0]=='Calib'\n",
    "#\tif frag[1]=='T52' : obs='LSGT'\n",
    "#\telse : obs=frag[1]\n",
    "\tfinalname='Calib-LSGT'+'-'+frag[2]+'-'+frag[3]+'-'+frag[4]+'-'+frag[5]+'-'+frag[8]+'.fits'\n",
    "\tos.system('mv '+ii+' '+'/'.join(ii.split('/')[:-1])+'/'+finalname)\n",
    "\n",
    "def iTelfilechange(ii):\n",
    "\t# From Calib-T21-ceouobs.changsu-NGC3367-20161130-042831-R-BIN1-E-180-003.fits\n",
    "\t# To   Calib-T21-NGC3367-20161130-042831-R-180.fits\n",
    "\ti=ii.split('/')[-1]\n",
    "\tfrag=i.split('-')\n",
    "\tfrag[0]=='Calib'\n",
    "#\tif frag[1]=='T52' : obs='LSGT'\n",
    "#\telse : obs=frag[1]\n",
    "\t#finalname='Calib-'+ frag[1] +'-'+frag[2]+'-'+frag[3]+'-'+frag[4]+'-'+frag[5]+'-'+frag[8]+'.fits'\n",
    "\tfinalname='Calib-'+ frag[1] +'-'+frag[3]+'-'+frag[4]+'-'+frag[5]+'-'+frag[6]+'-'+frag[9]+'.fits'\n",
    "\tos.system('mv '+ii+' '+'/'.join(ii.split('/')[:-1])+'/'+finalname)\n",
    "\n",
    "def simplerename(ii,a,b):\n",
    "\t'''\n",
    "\tsimplerename(filename, from, to)\n",
    "\t'''\n",
    "\timport os\n",
    "\t\t#i=ii.split('/')[-1]\n",
    "\tos.system('rename '+a+' '+b+' '+ii)\n",
    "\n",
    "def oswalknamesep(i):\n",
    "\tfilename=i.split('/')[-1]\n",
    "\thead='/'.join(i.split('/')[:-1])+'/'\n",
    "\treturn filename, head"
   ]
  },
  {
   "cell_type": "code",
   "execution_count": 10,
   "metadata": {},
   "outputs": [
    {
     "name": "stdout",
     "output_type": "stream",
     "text": [
      "9414 files\n"
     ]
    }
   ],
   "source": [
    "lines= oswalkfunc()\n",
    "lines.sort()\n",
    "fitslist= [s for s in lines if s.split('/')[-1][-5:]=='.fits' and 'com' in s]\n",
    "\n",
    "fitslists=[s for s in fitslist if '202105' in s] "
   ]
  },
  {
   "cell_type": "code",
   "execution_count": 11,
   "metadata": {},
   "outputs": [
    {
     "data": {
      "text/plain": [
       "['./LOAO/B/Calib-LOAO-M63-20210503-093307-B-180.com.fits',\n",
       " './LOAO/B/Calib-LOAO-M63-20210504-100028-B-180.com.fits',\n",
       " './LOAO/B/Calib-LOAO-M63-20210505-100321-B-180.com.fits',\n",
       " './LOAO/B/hcCalib-LOAO-M63-20210503-093307-B-180.com.fits',\n",
       " './LOAO/B/hcCalib-LOAO-M63-20210504-100028-B-180.com.fits',\n",
       " './LOAO/B/hcCalib-LOAO-M63-20210505-100321-B-180.com.fits',\n",
       " './LOAO/B/hdCalib-LOAO-M63-20210503-093307-B-180.com.fits',\n",
       " './LOAO/B/hdCalib-LOAO-M63-20210504-100028-B-180.com.fits',\n",
       " './LOAO/B/hdCalib-LOAO-M63-20210505-100321-B-180.com.fits',\n",
       " './LOAO/B/transients/hdCalib-LOAO-M63-20210503-093307-B-180.com.271.new.fits',\n",
       " './LOAO/B/transients/hdCalib-LOAO-M63-20210503-093307-B-180.com.271.ref.fits',\n",
       " './LOAO/B/transients/hdCalib-LOAO-M63-20210503-093307-B-180.com.271.sub.fits',\n",
       " './LOAO/B/transients/hdCalib-LOAO-M63-20210503-093307-B-180.com.284.new.fits',\n",
       " './LOAO/B/transients/hdCalib-LOAO-M63-20210503-093307-B-180.com.284.ref.fits',\n",
       " './LOAO/B/transients/hdCalib-LOAO-M63-20210503-093307-B-180.com.284.sub.fits',\n",
       " './LOAO/B/transients/hdCalib-LOAO-M63-20210503-093307-B-180.com.312.new.fits',\n",
       " './LOAO/B/transients/hdCalib-LOAO-M63-20210503-093307-B-180.com.312.ref.fits',\n",
       " './LOAO/B/transients/hdCalib-LOAO-M63-20210503-093307-B-180.com.312.sub.fits',\n",
       " './LOAO/B/transients/hdCalib-LOAO-M63-20210503-093307-B-180.com.370.new.fits',\n",
       " './LOAO/B/transients/hdCalib-LOAO-M63-20210503-093307-B-180.com.370.ref.fits',\n",
       " './LOAO/B/transients/hdCalib-LOAO-M63-20210503-093307-B-180.com.370.sub.fits',\n",
       " './LOAO/B/transients/hdCalib-LOAO-M63-20210504-100028-B-180.com.200.new.fits',\n",
       " './LOAO/B/transients/hdCalib-LOAO-M63-20210504-100028-B-180.com.200.ref.fits',\n",
       " './LOAO/B/transients/hdCalib-LOAO-M63-20210504-100028-B-180.com.200.sub.fits',\n",
       " './LOAO/B/transients/hdCalib-LOAO-M63-20210505-100321-B-180.com.6.new.fits',\n",
       " './LOAO/B/transients/hdCalib-LOAO-M63-20210505-100321-B-180.com.6.ref.fits',\n",
       " './LOAO/B/transients/hdCalib-LOAO-M63-20210505-100321-B-180.com.6.sub.fits',\n",
       " './LOAO/B/transients/hdCalib-LOAO-M63-20210505-100321-B-180.com.60.new.fits',\n",
       " './LOAO/B/transients/hdCalib-LOAO-M63-20210505-100321-B-180.com.60.ref.fits',\n",
       " './LOAO/B/transients/hdCalib-LOAO-M63-20210505-100321-B-180.com.60.sub.fits',\n",
       " './LOAO/R/Calib-LOAO-M63-20210503-093726-R-180.com.fits',\n",
       " './LOAO/R/Calib-LOAO-M63-20210504-100448-R-180.com.fits',\n",
       " './LOAO/R/Calib-LOAO-M63-20210505-100740-R-180.com.fits',\n",
       " './LOAO/R/hcCalib-LOAO-M63-20210503-093726-R-180.com.fits',\n",
       " './LOAO/R/hcCalib-LOAO-M63-20210504-100448-R-180.com.fits',\n",
       " './LOAO/R/hcCalib-LOAO-M63-20210505-100740-R-180.com.fits',\n",
       " './LOAO/R/hdCalib-LOAO-M63-20210503-093726-R-180.com.fits',\n",
       " './LOAO/R/hdCalib-LOAO-M63-20210504-100448-R-180.com.fits',\n",
       " './LOAO/R/hdCalib-LOAO-M63-20210505-100740-R-180.com.fits',\n",
       " './LOAO/R/transients/hdCalib-LOAO-M63-20210503-093726-R-180.com.266.new.fits',\n",
       " './LOAO/R/transients/hdCalib-LOAO-M63-20210503-093726-R-180.com.266.ref.fits',\n",
       " './LOAO/R/transients/hdCalib-LOAO-M63-20210503-093726-R-180.com.266.sub.fits',\n",
       " './LOAO/R/transients/hdCalib-LOAO-M63-20210503-093726-R-180.com.292.new.fits',\n",
       " './LOAO/R/transients/hdCalib-LOAO-M63-20210503-093726-R-180.com.292.ref.fits',\n",
       " './LOAO/R/transients/hdCalib-LOAO-M63-20210503-093726-R-180.com.292.sub.fits',\n",
       " './LOAO/R/transients/hdCalib-LOAO-M63-20210504-100448-R-180.com.108.new.fits',\n",
       " './LOAO/R/transients/hdCalib-LOAO-M63-20210504-100448-R-180.com.108.ref.fits',\n",
       " './LOAO/R/transients/hdCalib-LOAO-M63-20210504-100448-R-180.com.108.sub.fits',\n",
       " './LOAO/R/transients/hdCalib-LOAO-M63-20210504-100448-R-180.com.24.new.fits',\n",
       " './LOAO/R/transients/hdCalib-LOAO-M63-20210504-100448-R-180.com.24.ref.fits',\n",
       " './LOAO/R/transients/hdCalib-LOAO-M63-20210504-100448-R-180.com.24.sub.fits',\n",
       " './LOAO/R/transients/hdCalib-LOAO-M63-20210504-100448-R-180.com.72.new.fits',\n",
       " './LOAO/R/transients/hdCalib-LOAO-M63-20210504-100448-R-180.com.72.ref.fits',\n",
       " './LOAO/R/transients/hdCalib-LOAO-M63-20210504-100448-R-180.com.72.sub.fits',\n",
       " './LOAO/R/transients/hdCalib-LOAO-M63-20210504-100448-R-180.com.85.new.fits',\n",
       " './LOAO/R/transients/hdCalib-LOAO-M63-20210504-100448-R-180.com.85.ref.fits',\n",
       " './LOAO/R/transients/hdCalib-LOAO-M63-20210504-100448-R-180.com.85.sub.fits',\n",
       " './LOAO/R/transients/hdCalib-LOAO-M63-20210505-100740-R-180.com.12.new.fits',\n",
       " './LOAO/R/transients/hdCalib-LOAO-M63-20210505-100740-R-180.com.12.ref.fits',\n",
       " './LOAO/R/transients/hdCalib-LOAO-M63-20210505-100740-R-180.com.12.sub.fits',\n",
       " './LOAO/R/transients/hdCalib-LOAO-M63-20210505-100740-R-180.com.138.new.fits',\n",
       " './LOAO/R/transients/hdCalib-LOAO-M63-20210505-100740-R-180.com.138.ref.fits',\n",
       " './LOAO/R/transients/hdCalib-LOAO-M63-20210505-100740-R-180.com.138.sub.fits',\n",
       " './LOAO/R/transients/hdCalib-LOAO-M63-20210505-100740-R-180.com.145.new.fits',\n",
       " './LOAO/R/transients/hdCalib-LOAO-M63-20210505-100740-R-180.com.145.ref.fits',\n",
       " './LOAO/R/transients/hdCalib-LOAO-M63-20210505-100740-R-180.com.145.sub.fits']"
      ]
     },
     "execution_count": 11,
     "metadata": {},
     "output_type": "execute_result"
    }
   ],
   "source": [
    "fitslists\n",
    "\n"
   ]
  },
  {
   "cell_type": "code",
   "execution_count": 13,
   "metadata": {},
   "outputs": [
    {
     "data": {
      "text/plain": [
       "0"
      ]
     },
     "execution_count": 13,
     "metadata": {},
     "output_type": "execute_result"
    }
   ],
   "source": [
    "os.system('ds9 ./LOAO/B/Calib-LOAO-M63-20210505-100321-B-180.com.fits &')\n"
   ]
  },
  {
   "cell_type": "code",
   "execution_count": null,
   "metadata": {},
   "outputs": [],
   "source": [
    "for i in fitslists :  \n",
    "\tprint (i) \n",
    "\tds9list+=i+' ' \n",
    "\n",
    "os.system('ds9 '+ds9list+' &')"
   ]
  },
  {
   "cell_type": "code",
   "execution_count": null,
   "metadata": {},
   "outputs": [],
   "source": [
    "### region file ###\n",
    "\n",
    "radius=\"\"\" 10\" \"\"\"\n",
    "color=\"red\"\n",
    "ra=['12:56:46.737']\n",
    "dec=['+21:40:55.90']\n",
    "regname=['AT2018kkt']\n",
    "filename=regname[0]+'.reg'\n",
    "f=open(filename,'w')\n",
    "head1=\"# Region file format: DS9 version 4.1\\n\"\n",
    "head2=\"\"\"global color=green dashlist=8 3 width=1 font=\"helvetica 10 normal roman\" select=1 highlite=1 dash=0 fixed=0 edit=1 move=1 delete=1 include=1 source=1\\n\"\"\"\n",
    "head3=\"fk5\\n\"\n",
    "f.write(head1)\n",
    "f.write(head2)\n",
    "f.write(head3)\n",
    "\n",
    "for n in range(len(ra)):\n",
    "\tbody=\"circle(\"+str(ra[n])+\",\"+str(dec[n])+\",\"+radius+\") # color=\"+color+\" text={\"+str(regname[n])+\"}\\n\"\t\n",
    "\tf.write(body)\n",
    "f.close()"
   ]
  }
 ],
 "metadata": {
  "kernelspec": {
   "display_name": "Python 3",
   "language": "python",
   "name": "python3"
  },
  "language_info": {
   "codemirror_mode": {
    "name": "ipython",
    "version": 3
   },
   "file_extension": ".py",
   "mimetype": "text/x-python",
   "name": "python",
   "nbconvert_exporter": "python",
   "pygments_lexer": "ipython3",
   "version": "3.8.5"
  }
 },
 "nbformat": 4,
 "nbformat_minor": 4
}
